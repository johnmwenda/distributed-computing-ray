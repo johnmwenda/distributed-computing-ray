{
 "cells": [
  {
   "cell_type": "code",
   "execution_count": 16,
   "id": "f6b95ad9-b41a-438d-8cc1-077c945e3e1f",
   "metadata": {
    "tags": []
   },
   "outputs": [
    {
     "ename": "FacebookError",
     "evalue": "FacebookError(code=100,message=(#100) Missing permissions,type=OAuthException,fbtrace_id=AKWhIg9ue-lZmKuee7xODPa)",
     "output_type": "error",
     "traceback": [
      "\u001b[0;31m---------------------------------------------------------------------------\u001b[0m",
      "\u001b[0;31mFacebookError\u001b[0m                             Traceback (most recent call last)",
      "Cell \u001b[0;32mIn[16], line 25\u001b[0m\n\u001b[1;32m     21\u001b[0m     \u001b[38;5;28;01mreturn\u001b[39;00m \u001b[38;5;28;01mTrue\u001b[39;00m\n\u001b[1;32m     24\u001b[0m \u001b[38;5;28;01mif\u001b[39;00m \u001b[38;5;18m__name__\u001b[39m \u001b[38;5;241m==\u001b[39m \u001b[38;5;124m\"\u001b[39m\u001b[38;5;124m__main__\u001b[39m\u001b[38;5;124m\"\u001b[39m:\n\u001b[0;32m---> 25\u001b[0m     \u001b[43mhandler\u001b[49m\u001b[43m(\u001b[49m\u001b[43mpost_id\u001b[49m\u001b[38;5;241;43m=\u001b[39;49m\u001b[38;5;124;43m\"\u001b[39;49m\u001b[38;5;124;43m19292868552_371106181716390\u001b[39;49m\u001b[38;5;124;43m\"\u001b[39;49m\u001b[43m)\u001b[49m\n",
      "Cell \u001b[0;32mIn[16], line 14\u001b[0m, in \u001b[0;36mhandler\u001b[0;34m(post_id)\u001b[0m\n\u001b[1;32m     12\u001b[0m \u001b[38;5;28;01mdef\u001b[39;00m \u001b[38;5;21mhandler\u001b[39m(post_id):\n\u001b[1;32m     13\u001b[0m     api \u001b[38;5;241m=\u001b[39m FacebookApi(app_id\u001b[38;5;241m=\u001b[39mAPP_ID, app_secret\u001b[38;5;241m=\u001b[39mAPP_SECRET, application_only_auth\u001b[38;5;241m=\u001b[39m\u001b[38;5;28;01mTrue\u001b[39;00m)\n\u001b[0;32m---> 14\u001b[0m     post \u001b[38;5;241m=\u001b[39m \u001b[43mapi\u001b[49m\u001b[38;5;241;43m.\u001b[39;49m\u001b[43mpost\u001b[49m\u001b[38;5;241;43m.\u001b[39;49m\u001b[43mget_info\u001b[49m\u001b[43m(\u001b[49m\n\u001b[1;32m     15\u001b[0m \u001b[43m        \u001b[49m\u001b[43mpost_id\u001b[49m\u001b[38;5;241;43m=\u001b[39;49m\u001b[43mPAGE_ID\u001b[49m\u001b[38;5;241;43m+\u001b[39;49m\u001b[38;5;124;43m'\u001b[39;49m\u001b[38;5;124;43m_pfbid02X8S658up9QLJgYgkMWpCdJSUQHZTb1QCLufGdL7a4HGv7VAxPYZj9BpVoiwx2hScl\u001b[39;49m\u001b[38;5;124;43m'\u001b[39;49m\u001b[43m,\u001b[49m\n\u001b[1;32m     16\u001b[0m \u001b[43m        \u001b[49m\u001b[43mfields\u001b[49m\u001b[38;5;241;43m=\u001b[39;49m\u001b[38;5;124;43m\"\u001b[39;49m\u001b[38;5;124;43mid,message,created_time,full_picture,status_type,updated_time\u001b[39;49m\u001b[38;5;124;43m\"\u001b[39;49m\u001b[43m,\u001b[49m\n\u001b[1;32m     17\u001b[0m \u001b[43m    \u001b[49m\u001b[43m)\u001b[49m\n\u001b[1;32m     18\u001b[0m     \u001b[38;5;28mprint\u001b[39m(\u001b[38;5;124mf\u001b[39m\u001b[38;5;124m\"\u001b[39m\u001b[38;5;124mID: \u001b[39m\u001b[38;5;132;01m{\u001b[39;00mpost\u001b[38;5;241m.\u001b[39mid\u001b[38;5;132;01m}\u001b[39;00m\u001b[38;5;124m\"\u001b[39m)\n\u001b[1;32m     19\u001b[0m     \u001b[38;5;28mprint\u001b[39m(\u001b[38;5;124mf\u001b[39m\u001b[38;5;124m\"\u001b[39m\u001b[38;5;124mTime: \u001b[39m\u001b[38;5;132;01m{\u001b[39;00mpost\u001b[38;5;241m.\u001b[39mcreated_time\u001b[38;5;132;01m}\u001b[39;00m\u001b[38;5;124m\"\u001b[39m)\n",
      "File \u001b[0;32m~/.virtualenvs/facebookvenv/lib/python3.11/site-packages/pyfacebook/api/facebook/resource/post.py:35\u001b[0m, in \u001b[0;36mFacebookPost.get_info\u001b[0;34m(self, post_id, fields, return_json)\u001b[0m\n\u001b[1;32m     32\u001b[0m \u001b[38;5;28;01mif\u001b[39;00m fields \u001b[38;5;129;01mis\u001b[39;00m \u001b[38;5;28;01mNone\u001b[39;00m:\n\u001b[1;32m     33\u001b[0m     fields \u001b[38;5;241m=\u001b[39m const\u001b[38;5;241m.\u001b[39mPOST_PUBLIC_FIELDS \u001b[38;5;241m+\u001b[39m const\u001b[38;5;241m.\u001b[39mPOST_CONNECTIONS_SUMMERY_FIELDS\n\u001b[0;32m---> 35\u001b[0m data \u001b[38;5;241m=\u001b[39m \u001b[38;5;28;43mself\u001b[39;49m\u001b[38;5;241;43m.\u001b[39;49m\u001b[43mclient\u001b[49m\u001b[38;5;241;43m.\u001b[39;49m\u001b[43mget_object\u001b[49m\u001b[43m(\u001b[49m\n\u001b[1;32m     36\u001b[0m \u001b[43m    \u001b[49m\u001b[43mobject_id\u001b[49m\u001b[38;5;241;43m=\u001b[39;49m\u001b[43mpost_id\u001b[49m\u001b[43m,\u001b[49m\u001b[43m \u001b[49m\u001b[43mfields\u001b[49m\u001b[38;5;241;43m=\u001b[39;49m\u001b[43menf_comma_separated\u001b[49m\u001b[43m(\u001b[49m\u001b[43mfield\u001b[49m\u001b[38;5;241;43m=\u001b[39;49m\u001b[38;5;124;43m\"\u001b[39;49m\u001b[38;5;124;43mfields\u001b[39;49m\u001b[38;5;124;43m\"\u001b[39;49m\u001b[43m,\u001b[49m\u001b[43m \u001b[49m\u001b[43mvalue\u001b[49m\u001b[38;5;241;43m=\u001b[39;49m\u001b[43mfields\u001b[49m\u001b[43m)\u001b[49m\n\u001b[1;32m     37\u001b[0m \u001b[43m\u001b[49m\u001b[43m)\u001b[49m\n\u001b[1;32m     38\u001b[0m \u001b[38;5;28;01mif\u001b[39;00m return_json:\n\u001b[1;32m     39\u001b[0m     \u001b[38;5;28;01mreturn\u001b[39;00m data\n",
      "File \u001b[0;32m~/.virtualenvs/facebookvenv/lib/python3.11/site-packages/pyfacebook/api/graph.py:287\u001b[0m, in \u001b[0;36mGraphAPI.get_object\u001b[0;34m(self, object_id, fields, **kwargs)\u001b[0m\n\u001b[1;32m    281\u001b[0m     args\u001b[38;5;241m.\u001b[39mupdate(kwargs)\n\u001b[1;32m    283\u001b[0m resp \u001b[38;5;241m=\u001b[39m \u001b[38;5;28mself\u001b[39m\u001b[38;5;241m.\u001b[39m_request(\n\u001b[1;32m    284\u001b[0m     url\u001b[38;5;241m=\u001b[39m\u001b[38;5;124mf\u001b[39m\u001b[38;5;124m\"\u001b[39m\u001b[38;5;132;01m{\u001b[39;00m\u001b[38;5;28mself\u001b[39m\u001b[38;5;241m.\u001b[39mversion\u001b[38;5;132;01m}\u001b[39;00m\u001b[38;5;124m/\u001b[39m\u001b[38;5;132;01m{\u001b[39;00mobject_id\u001b[38;5;132;01m}\u001b[39;00m\u001b[38;5;124m\"\u001b[39m,\n\u001b[1;32m    285\u001b[0m     args\u001b[38;5;241m=\u001b[39margs,\n\u001b[1;32m    286\u001b[0m )\n\u001b[0;32m--> 287\u001b[0m data \u001b[38;5;241m=\u001b[39m \u001b[38;5;28;43mself\u001b[39;49m\u001b[38;5;241;43m.\u001b[39;49m\u001b[43m_parse_response\u001b[49m\u001b[43m(\u001b[49m\u001b[43mresp\u001b[49m\u001b[43m)\u001b[49m\n\u001b[1;32m    288\u001b[0m \u001b[38;5;28;01mreturn\u001b[39;00m data\n",
      "File \u001b[0;32m~/.virtualenvs/facebookvenv/lib/python3.11/site-packages/pyfacebook/api/graph.py:235\u001b[0m, in \u001b[0;36mGraphAPI._parse_response\u001b[0;34m(self, response)\u001b[0m\n\u001b[1;32m    233\u001b[0m \u001b[38;5;28;01mif\u001b[39;00m \u001b[38;5;124m\"\u001b[39m\u001b[38;5;124mjson\u001b[39m\u001b[38;5;124m\"\u001b[39m \u001b[38;5;129;01min\u001b[39;00m content_type:\n\u001b[1;32m    234\u001b[0m     data \u001b[38;5;241m=\u001b[39m response\u001b[38;5;241m.\u001b[39mjson()\n\u001b[0;32m--> 235\u001b[0m     \u001b[38;5;28;43mself\u001b[39;49m\u001b[38;5;241;43m.\u001b[39;49m\u001b[43m_check_graph_error\u001b[49m\u001b[43m(\u001b[49m\u001b[43mdata\u001b[49m\u001b[38;5;241;43m=\u001b[39;49m\u001b[43mdata\u001b[49m\u001b[43m)\u001b[49m\n\u001b[1;32m    236\u001b[0m     \u001b[38;5;28;01mreturn\u001b[39;00m data\n\u001b[1;32m    237\u001b[0m \u001b[38;5;28;01melif\u001b[39;00m \u001b[38;5;124m\"\u001b[39m\u001b[38;5;124mimage/\u001b[39m\u001b[38;5;124m\"\u001b[39m \u001b[38;5;129;01min\u001b[39;00m content_type:\n",
      "File \u001b[0;32m~/.virtualenvs/facebookvenv/lib/python3.11/site-packages/pyfacebook/api/graph.py:253\u001b[0m, in \u001b[0;36mGraphAPI._check_graph_error\u001b[0;34m(data)\u001b[0m\n\u001b[1;32m    249\u001b[0m \u001b[38;5;250m\u001b[39m\u001b[38;5;124;03m\"\"\"\u001b[39;00m\n\u001b[1;32m    250\u001b[0m \u001b[38;5;124;03m:param data: Data from response\u001b[39;00m\n\u001b[1;32m    251\u001b[0m \u001b[38;5;124;03m\"\"\"\u001b[39;00m\n\u001b[1;32m    252\u001b[0m \u001b[38;5;28;01mif\u001b[39;00m \u001b[38;5;124m\"\u001b[39m\u001b[38;5;124merror\u001b[39m\u001b[38;5;124m\"\u001b[39m \u001b[38;5;129;01min\u001b[39;00m data:\n\u001b[0;32m--> 253\u001b[0m     \u001b[38;5;28;01mraise\u001b[39;00m FacebookError(data)\n",
      "\u001b[0;31mFacebookError\u001b[0m: FacebookError(code=100,message=(#100) Missing permissions,type=OAuthException,fbtrace_id=AKWhIg9ue-lZmKuee7xODPa)"
     ]
    }
   ],
   "source": [
    "import os\n",
    "\n",
    "from pyfacebook import FacebookApi\n",
    "\n",
    "APP_ID = 2688182058141844  # Your App ID\n",
    "APP_SECRET = 'a11f1f51bc82762ac3f74519c4a216e9' # Your App secret\n",
    "# ACCESS_TOKEN = 'EAAmM4yiqyJQBO39eSVx6At0R74xsQboZBDBYULHbE3b4yZCsfUii31u9cFutlrdnFGzzK4q5dDuIiDZBucZAdeDORYEZCh3litfG2z38zL4b5elGu3siAyVmwFBZBoQEflrPZCZAfPlVFSsWvWZB4IRLoadUD0lgZAMNEToVBrLW9NKgLNNhXHIZAkC0NCCvbbOSpH8tT5Q22Cwgvlylnw1deE1ggZDZD'  # Your Access Token\n",
    "\n",
    "\n",
    "PAGE_ID = '595205407650966'\n",
    "\n",
    "def handler(post_id):\n",
    "    api = FacebookApi(app_id=APP_ID, app_secret=APP_SECRET, access_token=ACCESS_TOKEN)\n",
    "    post = api.post.get_info(\n",
    "        post_id=PAGE_ID+'_pfbid02X8S658up9QLJgYgkMWpCdJSUQHZTb1QCLufGdL7a4HGv7VAxPYZj9BpVoiwx2hScl',\n",
    "        fields=\"id,message,created_time,full_picture,status_type,updated_time\",\n",
    "    )\n",
    "    print(f\"ID: {post.id}\")\n",
    "    print(f\"Time: {post.created_time}\")\n",
    "    print(f\"Data: {post.to_json()}\")\n",
    "    return True\n",
    "\n",
    "\n",
    "if __name__ == \"__main__\":\n",
    "    handler(post_id=\"19292868552_371106181716390\")"
   ]
  }
 ],
 "metadata": {
  "kernelspec": {
   "display_name": "facebookvenv",
   "language": "python",
   "name": "facebookvenv"
  },
  "language_info": {
   "codemirror_mode": {
    "name": "ipython",
    "version": 3
   },
   "file_extension": ".py",
   "mimetype": "text/x-python",
   "name": "python",
   "nbconvert_exporter": "python",
   "pygments_lexer": "ipython3",
   "version": "3.11.6"
  }
 },
 "nbformat": 4,
 "nbformat_minor": 5
}
