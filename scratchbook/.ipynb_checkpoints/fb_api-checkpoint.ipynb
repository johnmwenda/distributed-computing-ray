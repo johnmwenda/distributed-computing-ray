{
 "cells": [
  {
   "cell_type": "code",
   "execution_count": 1,
   "id": "3d5898ec-deef-47e7-9f00-c1a1383e265f",
   "metadata": {
    "tags": []
   },
   "outputs": [],
   "source": [
    "import os\n",
    "\n",
    "from pyfacebook import FacebookApi\n"
   ]
  },
  {
   "cell_type": "code",
   "execution_count": 2,
   "id": "3c70e8fc-0886-46a6-ad8f-12585a2f5e1a",
   "metadata": {
    "tags": []
   },
   "outputs": [],
   "source": [
    "APP_ID = 2688182058141844  # Your App ID\n",
    "APP_SECRET = 'a11f1f51bc82762ac3f74519c4a216e9' # Your App secret\n",
    "ACCESS_TOKEN = 'EAAmM4yiqyJQBO6XAd8kwIVZCD0C1adiHOSZCloVox87koX441y3BUDcSZAEIZBh4QhZBALH6FNQM1VohHFioaNHri9a8OhVLZAv14hOKHdfUhRkDO9T3qTSlE5eaiYZBDwu4R93NzkohpdkhWFylCDI54O4j0MHRaZB1R7zbivHLnLzAAGSthsZAMRARPbknkV78lHC6ZB2J7IWm6E7F9iss4EDwZDZD'  # Your Access Token\n",
    "\n",
    "\n",
    "PAGE_ID = '595205407650966'\n",
    "api = FacebookApi(app_id=APP_ID, app_secret=APP_SECRET, access_token=ACCESS_TOKEN)"
   ]
  },
  {
   "cell_type": "code",
   "execution_count": null,
   "id": "14102f4a-65ef-4fd9-a450-e4476c327468",
   "metadata": {},
   "outputs": [],
   "source": []
  },
  {
   "cell_type": "code",
   "execution_count": 2,
   "id": "f6b95ad9-b41a-438d-8cc1-077c945e3e1f",
   "metadata": {
    "tags": []
   },
   "outputs": [
    {
     "name": "stdout",
     "output_type": "stream",
     "text": [
      "ID: 595205407650966_902274855270381\n",
      "Time: 2024-07-30T07:06:23+0000\n",
      "Data: {\"id\": \"595205407650966_902274855270381\", \"created_time\": \"2024-07-30T07:06:23+0000\", \"full_picture\": \"https://z-p3-scontent.fnbo15-1.fna.fbcdn.net/v/t39.30808-6/453192863_902274671937066_13709170776640465_n.jpg?stp=dst-jpg_p720x720&_nc_cat=109&ccb=1-7&_nc_sid=127cfc&_nc_eui2=AeEEANScKQI-3fOK-e4_DcAbMDzh587XYzUwPOHnztdjNdBv4jAAKivF-6RTRybOdmw&_nc_ohc=GsSlsTvJc1sQ7kNvgGJugAR&_nc_pt=5&_nc_zt=23&_nc_ht=z-p3-scontent.fnbo15-1.fna&edm=AJfPMC4EAAAA&gid=ArwvNR5vJmHxh33TmKvCITh&oh=00_AYCWR0dr3x-UqR5fxbM51swDZrmgkGdS76f22kZfSSF7hA&oe=66AFE24A\", \"message\": \"Good morning. On Sunday our Pastor Evans Fwaya taught us about foundations. He insisted that our foundation must be firm or the house will crumble no matter how beautiful it looks. It really was a call to check within and see what our houses are built on.\", \"status_type\": \"added_photos\", \"updated_time\": \"2024-07-30T20:31:20+0000\"}\n"
     ]
    }
   ],
   "source": [
    "def handler(post_id):\n",
    "    api = FacebookApi(app_id=APP_ID, app_secret=APP_SECRET, access_token=ACCESS_TOKEN)\n",
    "    post = api.post.get_info(\n",
    "        post_id=PAGE_ID+'_pfbid02X8S658up9QLJgYgkMWpCdJSUQHZTb1QCLufGdL7a4HGv7VAxPYZj9BpVoiwx2hScl',\n",
    "        fields=\"id,message,created_time,full_picture,status_type,updated_time\",\n",
    "    )\n",
    "    print(f\"ID: {post.id}\")\n",
    "    print(f\"Time: {post.created_time}\")\n",
    "    print(f\"Data: {post.to_json()}\")\n",
    "    return True\n",
    "\n",
    "\n",
    "if __name__ == \"__main__\":\n",
    "    handler(post_id=\"19292868552_371106181716390\")"
   ]
  },
  {
   "cell_type": "code",
   "execution_count": 5,
   "id": "e578c885-4cae-4868-9657-c0f0a839ba90",
   "metadata": {
    "tags": []
   },
   "outputs": [
    {
     "name": "stdout",
     "output_type": "stream",
     "text": [
      "{'fields': 'id,created_time,description,title,published,length,permalink_url,updated_time', 'limit': '10', 'access_token': 'EAAmM4yiqyJQBOx0zTJdaDlT5V7qMcZBU74ZAxdmmm4VLQjxg8LOOKn9KkCWNPHZATF04zGm7yNJ6n2pE8j0Ia7Xj45lJems69zLXQbiy0ZCkmw1iASex1glhCVFcid279wfr9RXfH4XCPZC5ozstXE825sBRUcAOliDOpedEhn5u8txscnupaCb3EZA8SobxEMApTff82RiAQQvLDYLLSfFAZDZD', 'after': 'QVFIUnBkVGhxb01jUjdKZAGp4S3hUbDVPU0NoUXg2NjZAZAS2w0ak1hdVFwSkV6c2ptVm0tLWloTGhoUWViWTIzcGxjdnFLYXZAZAQkdtbUM2VTVvZAEhFeVIxZAHpn'}\n"
     ]
    }
   ],
   "source": [
    "from urllib.parse import urlparse, parse_qs\n",
    "\n",
    "def get_query_params(url):\n",
    "    # Parse the URL\n",
    "    parsed_url = urlparse(url)\n",
    "    # Extract the query component\n",
    "    query_string = parsed_url.query\n",
    "    # Convert the query parameters to a dictionary\n",
    "    query_params = parse_qs(query_string)\n",
    "    # Convert list values to single values if only one value is present\n",
    "    query_params = {k: v[0] if len(v) == 1 else v for k, v in query_params.items()}\n",
    "    return query_params, \n",
    "\n",
    "# Example URL\n",
    "url = data.paging.next\n",
    "\n",
    "# Get query parameters as a dictionary\n",
    "query_params, base_url = get_query_params(url)\n",
    "print(query_params)\n"
   ]
  },
  {
   "cell_type": "code",
   "execution_count": 7,
   "id": "e3ef3467-7205-40cc-917b-c931d7084170",
   "metadata": {
    "tags": []
   },
   "outputs": [
    {
     "data": {
      "text/plain": [
       "'https://graph.facebook.com/v19.0/595205407650966/videos?fields=id%2Ccreated_time%2Cdescription%2Ctitle%2Cpublished%2Clength%2Cpermalink_url%2Cupdated_time&since=2020-01-01&limit=10&access_token=EAAmM4yiqyJQBO28ZCgvn0bhfBD9diofXBYdZAcnU4CtA9CKSohZAVCILGyErWefWsDwQpBjuJZCVYmcwiorySZBhqT2s6MptZBaPYYNZC8uh2qwcqMIkjSCN5jkihBnXfy9Td4xHwYbqLZBrZBfBzfEKyU3edKXwZBaEMldqK7jzK9jTQXZBJB5fDrdh4IMP7xO7BrW6dM0Ud9FGNg6f6J5JHZCl6AZDZD&after=QVFIUjVla1c3aHdHNGxlSjc2UHpmZAkJKLUdDWmhRREVlcjg0WEdjcmRVaE00UjJyOUVMRU5LMG1iVjFmUFR2YTZAYVkpYaW1jVlg2OWFIQnVNbkZAwLUFWQnd3'"
      ]
     },
     "execution_count": 7,
     "metadata": {},
     "output_type": "execute_result"
    }
   ],
   "source": [
    "data.paging.next"
   ]
  },
  {
   "cell_type": "code",
   "execution_count": 7,
   "id": "fc1ec2de-cf21-4286-9c9e-fcdb57d0767a",
   "metadata": {
    "tags": []
   },
   "outputs": [
    {
     "name": "stdout",
     "output_type": "stream",
     "text": [
      "fetch length 20 next https://graph.facebook.com/v19.0/595205407650966/videos?fields=id%2Ccreated_time%2Cdescription%2Ctitle%2Cpublished%2Clength%2Cpermalink_url%2Cupdated_time&since=2020-01-01&until=2020-04-30&limit=20&access_token=EAAmM4yiqyJQBO6XAd8kwIVZCD0C1adiHOSZCloVox87koX441y3BUDcSZAEIZBh4QhZBALH6FNQM1VohHFioaNHri9a8OhVLZAv14hOKHdfUhRkDO9T3qTSlE5eaiYZBDwu4R93NzkohpdkhWFylCDI54O4j0MHRaZB1R7zbivHLnLzAAGSthsZAMRARPbknkV78lHC6ZB2J7IWm6E7F9iss4EDwZDZD&after=QVFIUm12a09ZAYUM1Qkc1VFlXZAjIzU1VpOHVjenNGSGFkSVZAzU0FsWWs2d1ZAjdUxnQTRMWk9OMEJhNF80cG5vS1JldzlIVUZA6dVZA6MC1EOXVGR0xsMXhYRlJn\n",
      "> \u001b[0;32m/tmp/ipykernel_5370/636103823.py\u001b[0m(42)\u001b[0;36mget_all_paged_results\u001b[0;34m()\u001b[0m\n",
      "\u001b[0;32m     40 \u001b[0;31m        \u001b[0;34m\"\"\"Recursive function to get all paged video results\"\"\"\u001b[0m\u001b[0;34m\u001b[0m\u001b[0;34m\u001b[0m\u001b[0m\n",
      "\u001b[0m\u001b[0;32m     41 \u001b[0;31m        \u001b[0;32mimport\u001b[0m \u001b[0mpdb\u001b[0m\u001b[0;34m;\u001b[0m \u001b[0mpdb\u001b[0m\u001b[0;34m.\u001b[0m\u001b[0mset_trace\u001b[0m\u001b[0;34m(\u001b[0m\u001b[0;34m)\u001b[0m\u001b[0;34m\u001b[0m\u001b[0;34m\u001b[0m\u001b[0m\n",
      "\u001b[0m\u001b[0;32m---> 42 \u001b[0;31m        \u001b[0mresp\u001b[0m \u001b[0;34m=\u001b[0m \u001b[0mapi\u001b[0m\u001b[0;34m.\u001b[0m\u001b[0mget\u001b[0m\u001b[0;34m(\u001b[0m\u001b[0mself\u001b[0m\u001b[0;34m.\u001b[0m\u001b[0mPATH\u001b[0m\u001b[0;34m,\u001b[0m \u001b[0margs\u001b[0m\u001b[0;34m=\u001b[0m\u001b[0;34m{\u001b[0m\u001b[0;34m**\u001b[0m\u001b[0mself\u001b[0m\u001b[0;34m.\u001b[0m\u001b[0mget_query_params\u001b[0m\u001b[0;34m(\u001b[0m\u001b[0murl\u001b[0m\u001b[0;34m)\u001b[0m\u001b[0;34m,\u001b[0m \u001b[0;34m'count'\u001b[0m\u001b[0;34m:\u001b[0m \u001b[0mself\u001b[0m\u001b[0;34m.\u001b[0m\u001b[0mcount\u001b[0m\u001b[0;34m}\u001b[0m\u001b[0;34m)\u001b[0m\u001b[0;34m\u001b[0m\u001b[0;34m\u001b[0m\u001b[0m\n",
      "\u001b[0m\u001b[0;32m     43 \u001b[0;31m        \u001b[0mprint\u001b[0m\u001b[0;34m(\u001b[0m\u001b[0;34m\"fetch length\"\u001b[0m\u001b[0;34m,\u001b[0m \u001b[0mlen\u001b[0m\u001b[0;34m(\u001b[0m\u001b[0mresp\u001b[0m\u001b[0;34m[\u001b[0m\u001b[0;34m'data'\u001b[0m\u001b[0;34m]\u001b[0m\u001b[0;34m)\u001b[0m\u001b[0;34m,\u001b[0m \u001b[0;34m'next'\u001b[0m\u001b[0;34m,\u001b[0m \u001b[0mresp\u001b[0m\u001b[0;34m[\u001b[0m\u001b[0;34m'paging'\u001b[0m\u001b[0;34m]\u001b[0m\u001b[0;34m.\u001b[0m\u001b[0mget\u001b[0m\u001b[0;34m(\u001b[0m\u001b[0;34m'next'\u001b[0m\u001b[0;34m)\u001b[0m\u001b[0;34m,\u001b[0m \u001b[0;34m'args'\u001b[0m\u001b[0;34m,\u001b[0m \u001b[0;34m{\u001b[0m\u001b[0;34m**\u001b[0m\u001b[0mself\u001b[0m\u001b[0;34m.\u001b[0m\u001b[0mget_query_params\u001b[0m\u001b[0;34m(\u001b[0m\u001b[0murl\u001b[0m\u001b[0;34m)\u001b[0m\u001b[0;34m,\u001b[0m \u001b[0;34m'count'\u001b[0m\u001b[0;34m:\u001b[0m \u001b[0mself\u001b[0m\u001b[0;34m.\u001b[0m\u001b[0mcount\u001b[0m\u001b[0;34m,\u001b[0m \u001b[0;34m'limit'\u001b[0m\u001b[0;34m:\u001b[0m \u001b[0;36m20\u001b[0m\u001b[0;34m}\u001b[0m\u001b[0;34m)\u001b[0m\u001b[0;34m\u001b[0m\u001b[0;34m\u001b[0m\u001b[0m\n",
      "\u001b[0m\u001b[0;32m     44 \u001b[0;31m        \u001b[0mself\u001b[0m\u001b[0;34m.\u001b[0m\u001b[0mpaged_results\u001b[0m\u001b[0;34m.\u001b[0m\u001b[0mextend\u001b[0m\u001b[0;34m(\u001b[0m\u001b[0mresp\u001b[0m\u001b[0;34m[\u001b[0m\u001b[0;34m'data'\u001b[0m\u001b[0;34m]\u001b[0m\u001b[0;34m)\u001b[0m\u001b[0;34m\u001b[0m\u001b[0;34m\u001b[0m\u001b[0m\n",
      "\u001b[0m\n"
     ]
    },
    {
     "name": "stdin",
     "output_type": "stream",
     "text": [
      "ipdb>  c\n"
     ]
    },
    {
     "name": "stdout",
     "output_type": "stream",
     "text": [
      "fetch length 20 next https://graph.facebook.com/v19.0/595205407650966/videos?fields=id%2Ccreated_time%2Cdescription%2Ctitle%2Cpublished%2Clength%2Cpermalink_url%2Cupdated_time&since=2020-01-01&until=2020-04-30&limit=20&access_token=EAAmM4yiqyJQBO6XAd8kwIVZCD0C1adiHOSZCloVox87koX441y3BUDcSZAEIZBh4QhZBALH6FNQM1VohHFioaNHri9a8OhVLZAv14hOKHdfUhRkDO9T3qTSlE5eaiYZBDwu4R93NzkohpdkhWFylCDI54O4j0MHRaZB1R7zbivHLnLzAAGSthsZAMRARPbknkV78lHC6ZB2J7IWm6E7F9iss4EDwZDZD&after=QVFIUnRaLTFLT05jS2hOZA3BRV1dXZAFZA5dGlFcXNGSXhYVVFtZA1ZANVEJPQ05iYlE1cUVEYWRQT0JVSy1rcEx0aEt2YVBLX3hicXFWNndlY1RqSVlsWUN0b2NR args {'fields': 'id,created_time,description,title,published,length,permalink_url,updated_time', 'since': '2020-01-01', 'until': '2020-04-30', 'limit': 20, 'access_token': 'EAAmM4yiqyJQBO6XAd8kwIVZCD0C1adiHOSZCloVox87koX441y3BUDcSZAEIZBh4QhZBALH6FNQM1VohHFioaNHri9a8OhVLZAv14hOKHdfUhRkDO9T3qTSlE5eaiYZBDwu4R93NzkohpdkhWFylCDI54O4j0MHRaZB1R7zbivHLnLzAAGSthsZAMRARPbknkV78lHC6ZB2J7IWm6E7F9iss4EDwZDZD', 'after': 'QVFIUm12a09ZAYUM1Qkc1VFlXZAjIzU1VpOHVjenNGSGFkSVZAzU0FsWWs2d1ZAjdUxnQTRMWk9OMEJhNF80cG5vS1JldzlIVUZA6dVZA6MC1EOXVGR0xsMXhYRlJn', 'count': 20}\n",
      "> \u001b[0;32m/tmp/ipykernel_5370/636103823.py\u001b[0m(42)\u001b[0;36mget_all_paged_results\u001b[0;34m()\u001b[0m\n",
      "\u001b[0;32m     40 \u001b[0;31m        \u001b[0;34m\"\"\"Recursive function to get all paged video results\"\"\"\u001b[0m\u001b[0;34m\u001b[0m\u001b[0;34m\u001b[0m\u001b[0m\n",
      "\u001b[0m\u001b[0;32m     41 \u001b[0;31m        \u001b[0;32mimport\u001b[0m \u001b[0mpdb\u001b[0m\u001b[0;34m;\u001b[0m \u001b[0mpdb\u001b[0m\u001b[0;34m.\u001b[0m\u001b[0mset_trace\u001b[0m\u001b[0;34m(\u001b[0m\u001b[0;34m)\u001b[0m\u001b[0;34m\u001b[0m\u001b[0;34m\u001b[0m\u001b[0m\n",
      "\u001b[0m\u001b[0;32m---> 42 \u001b[0;31m        \u001b[0mresp\u001b[0m \u001b[0;34m=\u001b[0m \u001b[0mapi\u001b[0m\u001b[0;34m.\u001b[0m\u001b[0mget\u001b[0m\u001b[0;34m(\u001b[0m\u001b[0mself\u001b[0m\u001b[0;34m.\u001b[0m\u001b[0mPATH\u001b[0m\u001b[0;34m,\u001b[0m \u001b[0margs\u001b[0m\u001b[0;34m=\u001b[0m\u001b[0;34m{\u001b[0m\u001b[0;34m**\u001b[0m\u001b[0mself\u001b[0m\u001b[0;34m.\u001b[0m\u001b[0mget_query_params\u001b[0m\u001b[0;34m(\u001b[0m\u001b[0murl\u001b[0m\u001b[0;34m)\u001b[0m\u001b[0;34m,\u001b[0m \u001b[0;34m'count'\u001b[0m\u001b[0;34m:\u001b[0m \u001b[0mself\u001b[0m\u001b[0;34m.\u001b[0m\u001b[0mcount\u001b[0m\u001b[0;34m}\u001b[0m\u001b[0;34m)\u001b[0m\u001b[0;34m\u001b[0m\u001b[0;34m\u001b[0m\u001b[0m\n",
      "\u001b[0m\u001b[0;32m     43 \u001b[0;31m        \u001b[0mprint\u001b[0m\u001b[0;34m(\u001b[0m\u001b[0;34m\"fetch length\"\u001b[0m\u001b[0;34m,\u001b[0m \u001b[0mlen\u001b[0m\u001b[0;34m(\u001b[0m\u001b[0mresp\u001b[0m\u001b[0;34m[\u001b[0m\u001b[0;34m'data'\u001b[0m\u001b[0;34m]\u001b[0m\u001b[0;34m)\u001b[0m\u001b[0;34m,\u001b[0m \u001b[0;34m'next'\u001b[0m\u001b[0;34m,\u001b[0m \u001b[0mresp\u001b[0m\u001b[0;34m[\u001b[0m\u001b[0;34m'paging'\u001b[0m\u001b[0;34m]\u001b[0m\u001b[0;34m.\u001b[0m\u001b[0mget\u001b[0m\u001b[0;34m(\u001b[0m\u001b[0;34m'next'\u001b[0m\u001b[0;34m)\u001b[0m\u001b[0;34m,\u001b[0m \u001b[0;34m'args'\u001b[0m\u001b[0;34m,\u001b[0m \u001b[0;34m{\u001b[0m\u001b[0;34m**\u001b[0m\u001b[0mself\u001b[0m\u001b[0;34m.\u001b[0m\u001b[0mget_query_params\u001b[0m\u001b[0;34m(\u001b[0m\u001b[0murl\u001b[0m\u001b[0;34m)\u001b[0m\u001b[0;34m,\u001b[0m \u001b[0;34m'count'\u001b[0m\u001b[0;34m:\u001b[0m \u001b[0mself\u001b[0m\u001b[0;34m.\u001b[0m\u001b[0mcount\u001b[0m\u001b[0;34m,\u001b[0m \u001b[0;34m'limit'\u001b[0m\u001b[0;34m:\u001b[0m \u001b[0;36m20\u001b[0m\u001b[0;34m}\u001b[0m\u001b[0;34m)\u001b[0m\u001b[0;34m\u001b[0m\u001b[0;34m\u001b[0m\u001b[0m\n",
      "\u001b[0m\u001b[0;32m     44 \u001b[0;31m        \u001b[0mself\u001b[0m\u001b[0;34m.\u001b[0m\u001b[0mpaged_results\u001b[0m\u001b[0;34m.\u001b[0m\u001b[0mextend\u001b[0m\u001b[0;34m(\u001b[0m\u001b[0mresp\u001b[0m\u001b[0;34m[\u001b[0m\u001b[0;34m'data'\u001b[0m\u001b[0;34m]\u001b[0m\u001b[0;34m)\u001b[0m\u001b[0;34m\u001b[0m\u001b[0;34m\u001b[0m\u001b[0m\n",
      "\u001b[0m\n"
     ]
    },
    {
     "name": "stdin",
     "output_type": "stream",
     "text": [
      "ipdb>  c\n"
     ]
    },
    {
     "name": "stdout",
     "output_type": "stream",
     "text": [
      "fetch length 10 next None args {'fields': 'id,created_time,description,title,published,length,permalink_url,updated_time', 'since': '2020-01-01', 'until': '2020-04-30', 'limit': 20, 'access_token': 'EAAmM4yiqyJQBO6XAd8kwIVZCD0C1adiHOSZCloVox87koX441y3BUDcSZAEIZBh4QhZBALH6FNQM1VohHFioaNHri9a8OhVLZAv14hOKHdfUhRkDO9T3qTSlE5eaiYZBDwu4R93NzkohpdkhWFylCDI54O4j0MHRaZB1R7zbivHLnLzAAGSthsZAMRARPbknkV78lHC6ZB2J7IWm6E7F9iss4EDwZDZD', 'after': 'QVFIUnRaLTFLT05jS2hOZA3BRV1dXZAFZA5dGlFcXNGSXhYVVFtZA1ZANVEJPQ05iYlE1cUVEYWRQT0JVSy1rcEx0aEt2YVBLX3hicXFWNndlY1RqSVlsWUN0b2NR', 'count': 20}\n"
     ]
    }
   ],
   "source": [
    "from urllib.parse import urlparse, parse_qs\n",
    "from pyfacebook import VideosResponse\n",
    "\n",
    "# Fetch subsequent pages\n",
    "class FetchVideos:\n",
    "    PAGE_ID = None\n",
    "    PATH = None\n",
    "\n",
    "    def __init__(self, page_id, since, until, count=10):\n",
    "        self.PAGE_ID = page_id\n",
    "        self.PATH = f\"{page_id}/videos\"\n",
    "        self.since = since\n",
    "        self.until = until\n",
    "        self.count = count\n",
    "        self.paged_results = []\n",
    "\n",
    "    def get_query_params(self, url):\n",
    "        # Parse the URL\n",
    "        parsed_url = urlparse(url)\n",
    "        # Extract the query component\n",
    "        query_string = parsed_url.query\n",
    "        # Convert the query parameters to a dictionary\n",
    "        query_params = parse_qs(query_string)\n",
    "        # Convert list values to single values if only one value is present\n",
    "        query_params = {k: v[0] if len(v) == 1 else v for k, v in query_params.items()}\n",
    "        return query_params\n",
    "\n",
    "    def get_videos_response(self) -> VideosResponse:\n",
    "        query_params = {\n",
    "            'fields': 'id,created_time,description,title,published,length,permalink_url,updated_time',\n",
    "            'since': '2020-01-01',\n",
    "            'until': '2020-04-30',\n",
    "            'limit': self.count,\n",
    "            'access_token': ACCESS_TOKEN,\n",
    "            'limit': self.count\n",
    "        }\n",
    "        return api.get(self.PATH, args=query_params)\n",
    "\n",
    "    def get_all_paged_results(self, url) -> list:\n",
    "        \"\"\"Recursive function to get all paged video results\"\"\"\n",
    "        import pdb; pdb.set_trace()\n",
    "        resp = api.get(self.PATH, args={**self.get_query_params(url), 'count': self.count})\n",
    "        print(\"fetch length\", len(resp['data']), 'next', resp['paging'].get('next'), 'args', {**self.get_query_params(url), 'count': self.count, 'limit': 20})\n",
    "        self.paged_results.extend(resp['data'])\n",
    "\n",
    "        if resp['paging'].get('next'):\n",
    "            return self.get_all_paged_results(resp['paging'].get('next'))\n",
    "        else:\n",
    "            return self.paged_results\n",
    "\n",
    "    def get_videos(self):\n",
    "        initial_data = self.get_videos_response()\n",
    "        videos_list = initial_data['data'] \n",
    "        paging = initial_data['paging']\n",
    "        \n",
    "        if paging['next']:\n",
    "            print(\"fetch length\", len(videos_list), 'next', paging['next'])\n",
    "            all_paged_results = self.get_all_paged_results(paging['next'])\n",
    "            videos_list.extend(all_paged_results)\n",
    "\n",
    "        return videos_list\n",
    "\n",
    "vid_resp = FetchVideos(PAGE_ID, since='2020-01-01', until='2020-04-30', count=20)\n",
    "data = vid_resp.get_videos()"
   ]
  },
  {
   "cell_type": "code",
   "execution_count": 9,
   "id": "224471be-0309-4e67-a918-1c965905614a",
   "metadata": {
    "tags": []
   },
   "outputs": [
    {
     "data": {
      "text/plain": [
       "{'id': '616153228971431',\n",
       " 'created_time': '2020-04-29T16:30:55+0000',\n",
       " 'description': 'Welcome to our Mid Week Service',\n",
       " 'title': 'Wednesday Servic',\n",
       " 'published': True,\n",
       " 'length': 5736.536,\n",
       " 'permalink_url': '/653354433495759/videos/616153228971431',\n",
       " 'updated_time': '2023-04-01T06:04:57+0000'}"
      ]
     },
     "execution_count": 9,
     "metadata": {},
     "output_type": "execute_result"
    }
   ],
   "source": [
    "data[0]"
   ]
  },
  {
   "cell_type": "code",
   "execution_count": 4,
   "id": "e38a6067-77da-44b5-be32-76e2eddcb35b",
   "metadata": {
    "tags": []
   },
   "outputs": [
    {
     "data": {
      "text/plain": [
       "20"
      ]
     },
     "execution_count": 4,
     "metadata": {},
     "output_type": "execute_result"
    }
   ],
   "source": [
    "len(data.data)"
   ]
  },
  {
   "cell_type": "code",
   "execution_count": 12,
   "id": "6338c471-8feb-43b4-b637-66c8cbd8874a",
   "metadata": {
    "tags": []
   },
   "outputs": [
    {
     "data": {
      "text/plain": [
       "dict_keys(['data', 'paging'])"
      ]
     },
     "execution_count": 12,
     "metadata": {},
     "output_type": "execute_result"
    }
   ],
   "source": [
    "videos.keys()"
   ]
  },
  {
   "cell_type": "code",
   "execution_count": 8,
   "id": "c0af5830-096a-405d-bc46-7bc02ee414eb",
   "metadata": {
    "tags": []
   },
   "outputs": [
    {
     "data": {
      "text/plain": [
       "'https://graph.facebook.com/v19.0/595205407650966/videos?fields=id%2Ccreated_time%2Cdescription%2Ctitle%2Cpublished%2Clength%2Cpermalink_url%2Cupdated_time&limit=10&access_token=EAAmM4yiqyJQBOx0zTJdaDlT5V7qMcZBU74ZAxdmmm4VLQjxg8LOOKn9KkCWNPHZATF04zGm7yNJ6n2pE8j0Ia7Xj45lJems69zLXQbiy0ZCkmw1iASex1glhCVFcid279wfr9RXfH4XCPZC5ozstXE825sBRUcAOliDOpedEhn5u8txscnupaCb3EZA8SobxEMApTff82RiAQQvLDYLLSfFAZDZD&after=QVFIUnBkVGhxb01jUjdKZAGp4S3hUbDVPU0NoUXg2NjZAZAS2w0ak1hdVFwSkV6c2ptVm0tLWloTGhoUWViWTIzcGxjdnFLYXZAZAQkdtbUM2VTVvZAEhFeVIxZAHpn'"
      ]
     },
     "execution_count": 8,
     "metadata": {},
     "output_type": "execute_result"
    }
   ],
   "source": [
    "next"
   ]
  },
  {
   "cell_type": "code",
   "execution_count": 20,
   "id": "3f9bdaca-c645-425d-b30f-937bc2e76c5f",
   "metadata": {
    "tags": []
   },
   "outputs": [
    {
     "data": {
      "text/plain": [
       "{'limit': '10',\n",
       " 'access_token': 'EAAmM4yiqyJQBO39eSVx6At0R74xsQboZBDBYULHbE3b4yZCsfUii31u9cFutlrdnFGzzK4q5dDuIiDZBucZAdeDORYEZCh3litfG2z38zL4b5elGu3siAyVmwFBZBoQEflrPZCZAfPlVFSsWvWZB4IRLoadUD0lgZAMNEToVBrLW9NKgLNNhXHIZAkC0NCCvbbOSpH8tT5Q22Cwgvlylnw1deE1ggZDZD',\n",
       " 'after': 'QVFIUnBkVGhxb01jUjdKZAGp4S3hUbDVPU0NoUXg2NjZAZAS2w0ak1hdVFwSkV6c2ptVm0tLWloTGhoUWViWTIzcGxjdnFLYXZAZAQkdtbUM2VTVvZAEhFeVIxZAHpn',\n",
       " 'appsecret_proof': '0cb410ba83c549c419e90484fece72a6ed7fca6f776a9f7c35d3394307a2b039'}"
      ]
     },
     "execution_count": 20,
     "metadata": {},
     "output_type": "execute_result"
    }
   ],
   "source": [
    "query_params"
   ]
  },
  {
   "cell_type": "code",
   "execution_count": 14,
   "id": "be2b0592-099f-42c2-9abd-bb3344840db8",
   "metadata": {
    "tags": []
   },
   "outputs": [
    {
     "data": {
      "text/plain": [
       "'https://graph.facebook.com/v19.0/595205407650966/videos?fields=id%2Ccreated_time%2Cdescription%2Ctitle%2Cpublished%2Clength%2Cpermalink_url%2Cupdated_time&limit=10&access_token=EAAmM4yiqyJQBO39eSVx6At0R74xsQboZBDBYULHbE3b4yZCsfUii31u9cFutlrdnFGzzK4q5dDuIiDZBucZAdeDORYEZCh3litfG2z38zL4b5elGu3siAyVmwFBZBoQEflrPZCZAfPlVFSsWvWZB4IRLoadUD0lgZAMNEToVBrLW9NKgLNNhXHIZAkC0NCCvbbOSpH8tT5Q22Cwgvlylnw1deE1ggZDZD&after=QVFIUnBkVGhxb01jUjdKZAGp4S3hUbDVPU0NoUXg2NjZAZAS2w0ak1hdVFwSkV6c2ptVm0tLWloTGhoUWViWTIzcGxjdnFLYXZAZAQkdtbUM2VTVvZAEhFeVIxZAHpn'"
      ]
     },
     "execution_count": 14,
     "metadata": {},
     "output_type": "execute_result"
    }
   ],
   "source": [
    "next"
   ]
  },
  {
   "cell_type": "code",
   "execution_count": null,
   "id": "9e47e73d-39a7-4ba3-8d7e-9f4797b902c6",
   "metadata": {
    "tags": []
   },
   "outputs": [],
   "source": [
    "next = api.page.get_videos(PAGE_ID).paging.next"
   ]
  },
  {
   "cell_type": "code",
   "execution_count": 34,
   "id": "9c7549cd-a483-4478-8754-ab638e3e35e1",
   "metadata": {
    "tags": []
   },
   "outputs": [
    {
     "data": {
      "text/plain": [
       "['__abstractmethods__',\n",
       " '__annotations__',\n",
       " '__class__',\n",
       " '__dataclass_fields__',\n",
       " '__dataclass_params__',\n",
       " '__delattr__',\n",
       " '__dict__',\n",
       " '__dir__',\n",
       " '__doc__',\n",
       " '__eq__',\n",
       " '__format__',\n",
       " '__ge__',\n",
       " '__getattribute__',\n",
       " '__getstate__',\n",
       " '__gt__',\n",
       " '__hash__',\n",
       " '__init__',\n",
       " '__init_subclass__',\n",
       " '__le__',\n",
       " '__lt__',\n",
       " '__match_args__',\n",
       " '__module__',\n",
       " '__ne__',\n",
       " '__new__',\n",
       " '__reduce__',\n",
       " '__reduce_ex__',\n",
       " '__repr__',\n",
       " '__setattr__',\n",
       " '__sizeof__',\n",
       " '__slots__',\n",
       " '__str__',\n",
       " '__subclasshook__',\n",
       " '__weakref__',\n",
       " '_abc_impl',\n",
       " '_json',\n",
       " 'data',\n",
       " 'dataclass_json_config',\n",
       " 'from_dict',\n",
       " 'from_json',\n",
       " 'new_from_json_dict',\n",
       " 'paging',\n",
       " 'schema',\n",
       " 'to_dict',\n",
       " 'to_json']"
      ]
     },
     "execution_count": 34,
     "metadata": {},
     "output_type": "execute_result"
    }
   ],
   "source": [
    "dir(api.page.get_videos(PAGE_ID))"
   ]
  }
 ],
 "metadata": {
  "kernelspec": {
   "display_name": "facebookvenv",
   "language": "python",
   "name": "facebookvenv"
  },
  "language_info": {
   "codemirror_mode": {
    "name": "ipython",
    "version": 3
   },
   "file_extension": ".py",
   "mimetype": "text/x-python",
   "name": "python",
   "nbconvert_exporter": "python",
   "pygments_lexer": "ipython3",
   "version": "3.11.6"
  }
 },
 "nbformat": 4,
 "nbformat_minor": 5
}
